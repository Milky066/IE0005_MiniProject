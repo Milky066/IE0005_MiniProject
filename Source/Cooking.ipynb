{
 "cells": [
  {
   "cell_type": "code",
   "execution_count": null,
   "metadata": {},
   "outputs": [],
   "source": [
    "import numpy as np\n",
    "import pandas as pd\n",
    "import seaborn as sb\n",
    "import matplotlib.pyplot as plt"
   ]
  },
  {
   "cell_type": "markdown",
   "metadata": {},
   "source": [
    "Goal: Predict the type of cuisine based on given ingredients"
   ]
  },
  {
   "cell_type": "code",
   "execution_count": null,
   "metadata": {},
   "outputs": [],
   "source": [
    "test_data = pd.read_json(\"../Cooking_Assets/test.json\")\n",
    "train_data = pd.read_json(\"../Cooking_Assets/train.json\")\n",
    "\n",
    "test_df = pd.DataFrame(test_data)\n",
    "train_df=pd.DataFrame(train_data)\n"
   ]
  },
  {
   "cell_type": "code",
   "execution_count": null,
   "metadata": {},
   "outputs": [],
   "source": [
    "train_df.head()"
   ]
  },
  {
   "cell_type": "code",
   "execution_count": null,
   "metadata": {},
   "outputs": [],
   "source": [
    "\n",
    "ingredients = train_df.groupby(\"ingredients\")\n",
    "cuisineCount = train_df[\"cuisine\"].value_counts()\n",
    "ingredientCount = train_df[\"ingredients\"].value_counts()\n",
    "ingredientCount"
   ]
  },
  {
   "cell_type": "markdown",
   "metadata": {},
   "source": [
    "Finding out the most common cuisine from the dataset"
   ]
  },
  {
   "cell_type": "code",
   "execution_count": null,
   "metadata": {},
   "outputs": [],
   "source": [
    "from matplotlib.font_manager import font_scalings\n",
    "\n",
    "\n",
    "sb.set(font_scale=1.5)\n",
    "\n",
    "figure, ax = plt.subplots(figsize = (30,10))\n",
    "sb.barplot(data=train_df, x=cuisineCount.index ,y=cuisineCount.values,ax=ax)\n",
    "plt.title(\"Number of each cuisine\")\n",
    "\n",
    "\n",
    "for plot in ax.patches:\n",
    "    height, width, x = plot.get_height(), plot.get_width(), plot.get_x()\n",
    "    xy = (x + width / 2., height + 100 )\n",
    "    text = f'{height:0.0f}'\n",
    "    ax.annotate(text=text, xy=xy, ha='center', va='center', fontsize= 15)\n",
    "\n"
   ]
  },
  {
   "cell_type": "markdown",
   "metadata": {},
   "source": [
    "Finding out the most common ingredient"
   ]
  },
  {
   "cell_type": "code",
   "execution_count": null,
   "metadata": {},
   "outputs": [],
   "source": []
  },
  {
   "cell_type": "code",
   "execution_count": null,
   "metadata": {},
   "outputs": [],
   "source": []
  },
  {
   "cell_type": "code",
   "execution_count": null,
   "metadata": {},
   "outputs": [],
   "source": []
  },
  {
   "cell_type": "markdown",
   "metadata": {},
   "source": [
    "Prediciting the cuisine from given ingredients"
   ]
  },
  {
   "cell_type": "code",
   "execution_count": null,
   "metadata": {},
   "outputs": [],
   "source": []
  }
 ],
 "metadata": {
  "kernelspec": {
   "display_name": "Python 3.9.7 ('base')",
   "language": "python",
   "name": "python3"
  },
  "language_info": {
   "codemirror_mode": {
    "name": "ipython",
    "version": 3
   },
   "file_extension": ".py",
   "mimetype": "text/x-python",
   "name": "python",
   "nbconvert_exporter": "python",
   "pygments_lexer": "ipython3",
   "version": "3.9.7"
  },
  "orig_nbformat": 4,
  "vscode": {
   "interpreter": {
    "hash": "75ab0dbb214edaab6515133873d2efa034c930f5fb9c632182be980f51facb98"
   }
  }
 },
 "nbformat": 4,
 "nbformat_minor": 2
}
